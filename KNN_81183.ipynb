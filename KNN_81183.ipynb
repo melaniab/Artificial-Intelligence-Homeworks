{
 "cells": [
  {
   "cell_type": "code",
   "execution_count": 17,
   "metadata": {},
   "outputs": [
    {
     "data": {
      "text/html": [
       "<div>\n",
       "<style>\n",
       "    .dataframe thead tr:only-child th {\n",
       "        text-align: right;\n",
       "    }\n",
       "\n",
       "    .dataframe thead th {\n",
       "        text-align: left;\n",
       "    }\n",
       "\n",
       "    .dataframe tbody tr th {\n",
       "        vertical-align: top;\n",
       "    }\n",
       "</style>\n",
       "<table border=\"1\" class=\"dataframe\">\n",
       "  <thead>\n",
       "    <tr style=\"text-align: right;\">\n",
       "      <th></th>\n",
       "      <th>Id</th>\n",
       "      <th>SepalLengthCm</th>\n",
       "      <th>SepalWidthCm</th>\n",
       "      <th>PetalLengthCm</th>\n",
       "      <th>PetalWidthCm</th>\n",
       "      <th>Species</th>\n",
       "    </tr>\n",
       "  </thead>\n",
       "  <tbody>\n",
       "    <tr>\n",
       "      <th>0</th>\n",
       "      <td>1</td>\n",
       "      <td>5.1</td>\n",
       "      <td>3.5</td>\n",
       "      <td>1.4</td>\n",
       "      <td>0.2</td>\n",
       "      <td>Iris-setosa</td>\n",
       "    </tr>\n",
       "    <tr>\n",
       "      <th>1</th>\n",
       "      <td>2</td>\n",
       "      <td>4.9</td>\n",
       "      <td>3.0</td>\n",
       "      <td>1.4</td>\n",
       "      <td>0.2</td>\n",
       "      <td>Iris-setosa</td>\n",
       "    </tr>\n",
       "    <tr>\n",
       "      <th>2</th>\n",
       "      <td>3</td>\n",
       "      <td>4.7</td>\n",
       "      <td>3.2</td>\n",
       "      <td>1.3</td>\n",
       "      <td>0.2</td>\n",
       "      <td>Iris-setosa</td>\n",
       "    </tr>\n",
       "    <tr>\n",
       "      <th>3</th>\n",
       "      <td>4</td>\n",
       "      <td>4.6</td>\n",
       "      <td>3.1</td>\n",
       "      <td>1.5</td>\n",
       "      <td>0.2</td>\n",
       "      <td>Iris-setosa</td>\n",
       "    </tr>\n",
       "    <tr>\n",
       "      <th>4</th>\n",
       "      <td>5</td>\n",
       "      <td>5.0</td>\n",
       "      <td>3.6</td>\n",
       "      <td>1.4</td>\n",
       "      <td>0.2</td>\n",
       "      <td>Iris-setosa</td>\n",
       "    </tr>\n",
       "  </tbody>\n",
       "</table>\n",
       "</div>"
      ],
      "text/plain": [
       "   Id  SepalLengthCm  SepalWidthCm  PetalLengthCm  PetalWidthCm      Species\n",
       "0   1            5.1           3.5            1.4           0.2  Iris-setosa\n",
       "1   2            4.9           3.0            1.4           0.2  Iris-setosa\n",
       "2   3            4.7           3.2            1.3           0.2  Iris-setosa\n",
       "3   4            4.6           3.1            1.5           0.2  Iris-setosa\n",
       "4   5            5.0           3.6            1.4           0.2  Iris-setosa"
      ]
     },
     "execution_count": 17,
     "metadata": {},
     "output_type": "execute_result"
    }
   ],
   "source": [
    "'''\n",
    "Домашно за имплементиране на kNN класификатор върху данните Iris. \n",
    "\n",
    "Имах проблем с манипулирането на данните от Iris в dataframe формат,\n",
    "(връщаше ми съобщения за грешка, които дълго време не успях да оправя),\n",
    "затова директно си import-нах iris от библиотеката sklearn.\n",
    "\n",
    "'''\n",
    "'''\n",
    "#Import data \n",
    "import numpy as np \n",
    "import pandas as pd \n",
    "data = pd.read_csv(\"Iris.csv\")\n",
    "data.dropna()\n",
    "data.head()\n",
    "#Spit into test-train sets \n",
    "from sklearn.model_selection import train_test_split\n",
    "train, test = train_test_split(data, test_size=0.13)\n",
    "train_data = train[train.columns[0:4]]\n",
    "train_labels = train[\"Species\"]\n",
    "test_data = test[test.columns[0:4]]\n",
    "test_labels = test[\"Species\"]\n",
    "'''"
   ]
  },
  {
   "cell_type": "code",
   "execution_count": 1,
   "metadata": {},
   "outputs": [
    {
     "name": "stdout",
     "output_type": "stream",
     "text": [
      "(array([[ 5.7,  2.8,  4.5,  1.3],\n",
      "       [ 5.6,  2.9,  3.6,  1.3],\n",
      "       [ 5.1,  3.7,  1.5,  0.4],\n",
      "       [ 5.8,  2.7,  5.1,  1.9]]), array([1, 1, 0, 2]))\n",
      "(array([[ 4.9,  3.1,  1.5,  0.1],\n",
      "       [ 4.6,  3.6,  1. ,  0.2],\n",
      "       [ 6.6,  2.9,  4.6,  1.3],\n",
      "       [ 6.8,  2.8,  4.8,  1.4]]), array([0, 0, 1, 1]))\n"
     ]
    }
   ],
   "source": [
    "#Import dataset\n",
    "import numpy as np\n",
    "from sklearn import datasets\n",
    "iris = datasets.load_iris()\n",
    "iris_data = iris.data\n",
    "iris_labels = iris.target\n",
    "\n",
    "#Spit into test-train sets\n",
    "np.random.seed(13)\n",
    "indices = np.random.permutation(len(iris_data))\n",
    "n_test = 20\n",
    "train_data = iris_data[indices[:-n_test]]\n",
    "train_labels = iris_labels[indices[:-n_test]]\n",
    "test_data = iris_data[indices[-n_test:]]\n",
    "test_labels = iris_labels[indices[-n_test:]]\n",
    "print(train_data[:4], train_labels[:4])\n",
    "print(test_data[:4], test_labels[:4])"
   ]
  },
  {
   "cell_type": "code",
   "execution_count": 3,
   "metadata": {},
   "outputs": [
    {
     "name": "stdout",
     "output_type": "stream",
     "text": [
      "0.455521678957\n"
     ]
    }
   ],
   "source": [
    "#Distance function\n",
    "def norm_euclidean_dist(vec1, vec2):\n",
    "    m = len(vec1)\n",
    "    sum = 0 \n",
    "    for x, y in zip(vec1, vec2): \n",
    "        sum += pow((x - y), 2)\n",
    "    return pow((sum/ m), 0.5)    \n",
    "print(norm_euclidean_dist(train_data[0], train_data[1]))"
   ]
  },
  {
   "cell_type": "code",
   "execution_count": 4,
   "metadata": {},
   "outputs": [],
   "source": [
    "#Getting K nearest neighbors. Returns a list of neighbours, each of them defines as (index, distance, label)\n",
    "def get_k_neighbors(training_set, labels, test_instance, k, distance=norm_euclidean_dist):\n",
    "    distances = []\n",
    "    for index in range(len(training_set)):\n",
    "        dist = distance(test_instance, training_set[index])\n",
    "        distances.append((training_set[index], dist, labels[index]))\n",
    "    distances.sort(key=lambda x: x[1])\n",
    "    neighbors = distances[:k]\n",
    "    return neighbors\n",
    "\n",
    "#Voting  function \n",
    "from collections import Counter\n",
    "def vote(neighbors):\n",
    "    class_counter = Counter()\n",
    "    for neighbor in neighbors:\n",
    "        class_counter[neighbor[2]] += 1\n",
    "    return class_counter.most_common(1)[0][0]\n"
   ]
  },
  {
   "cell_type": "code",
   "execution_count": 8,
   "metadata": {},
   "outputs": [
    {
     "name": "stdout",
     "output_type": "stream",
     "text": [
      "('index: ', 0, ', result of vote: ', 0, ', label: ', 0)\n",
      "('index: ', 1, ', result of vote: ', 0, ', label: ', 0)\n",
      "('index: ', 2, ', result of vote: ', 1, ', label: ', 1)\n",
      "('index: ', 3, ', result of vote: ', 1, ', label: ', 1)\n",
      "('index: ', 4, ', result of vote: ', 0, ', label: ', 0)\n",
      "('index: ', 5, ', result of vote: ', 0, ', label: ', 0)\n",
      "('index: ', 6, ', result of vote: ', 0, ', label: ', 0)\n",
      "('index: ', 7, ', result of vote: ', 0, ', label: ', 0)\n",
      "('index: ', 8, ', result of vote: ', 2, ', label: ', 2)\n",
      "('index: ', 9, ', result of vote: ', 2, ', label: ', 2)\n",
      "('index: ', 10, ', result of vote: ', 0, ', label: ', 0)\n",
      "('index: ', 11, ', result of vote: ', 1, ', label: ', 1)\n",
      "('index: ', 12, ', result of vote: ', 1, ', label: ', 1)\n",
      "('index: ', 13, ', result of vote: ', 1, ', label: ', 1)\n",
      "('index: ', 14, ', result of vote: ', 2, ', label: ', 2)\n",
      "('index: ', 15, ', result of vote: ', 2, ', label: ', 2)\n",
      "('index: ', 16, ', result of vote: ', 1, ', label: ', 1)\n",
      "('index: ', 17, ', result of vote: ', 0, ', label: ', 0)\n",
      "('index: ', 18, ', result of vote: ', 1, ', label: ', 1)\n",
      "('index: ', 19, ', result of vote: ', 1, ', label: ', 1)\n"
     ]
    }
   ],
   "source": [
    "K = 10 #input parameter \n",
    "\n",
    "#Predicted values \n",
    "predicted_labels =[]\n",
    "for i in range(n_test):\n",
    "    neighbors = get_k_neighbors(train_data, train_labels, test_data[i], K)\n",
    "    predicted_labels.append(vote(neighbors))\n",
    "    print(\"index: \", i, \", result of vote: \", predicted_labels[i], \n",
    "          \", label: \", test_labels[i], )"
   ]
  },
  {
   "cell_type": "code",
   "execution_count": 9,
   "metadata": {},
   "outputs": [
    {
     "name": "stdout",
     "output_type": "stream",
     "text": [
      "Accuracy in %:\n",
      "100.0\n"
     ]
    }
   ],
   "source": [
    "def accuracy(test_labels, predicted_lables):\n",
    "    correct = 0\n",
    "    for true, predicted in zip(test_labels, predicted_lables):\n",
    "        if (true == predicted): \n",
    "            correct += 1 \n",
    "    accuracy = float(correct)/len(test_labels) *100  #accuracy \n",
    "    return accuracy\n",
    "print(\"Accuracy in %:\")\n",
    "print(accuracy(test_labels, predicted_labels))    "
   ]
  },
  {
   "cell_type": "code",
   "execution_count": null,
   "metadata": {
    "collapsed": true
   },
   "outputs": [],
   "source": []
  }
 ],
 "metadata": {
  "kernelspec": {
   "display_name": "Python 2",
   "language": "python",
   "name": "python2"
  },
  "language_info": {
   "codemirror_mode": {
    "name": "ipython",
    "version": 2
   },
   "file_extension": ".py",
   "mimetype": "text/x-python",
   "name": "python",
   "nbconvert_exporter": "python",
   "pygments_lexer": "ipython2",
   "version": "2.7.13"
  }
 },
 "nbformat": 4,
 "nbformat_minor": 2
}
